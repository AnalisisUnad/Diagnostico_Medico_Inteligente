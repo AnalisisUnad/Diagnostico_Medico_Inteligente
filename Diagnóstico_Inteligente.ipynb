{
  "nbformat": 4,
  "nbformat_minor": 0,
  "metadata": {
    "colab": {
      "provenance": []
    },
    "kernelspec": {
      "name": "python3",
      "display_name": "Python 3"
    },
    "language_info": {
      "name": "python"
    }
  },
  "cells": [
    {
      "cell_type": "code",
      "execution_count": 1,
      "metadata": {
        "colab": {
          "base_uri": "https://localhost:8080/"
        },
        "id": "wXGh4Iog4PNL",
        "outputId": "708e8933-a05a-47b3-d4ea-8302221aa4d0"
      },
      "outputs": [
        {
          "output_type": "stream",
          "name": "stdout",
          "text": [
            "Precisión del modelo: 0.00%\n",
            "Ingrese los síntomas presentes (1 = Sí, 0 = No):\n",
            "Tos: 1\n",
            "Fiebre: 1\n",
            "Dolor de cabeza: 0\n",
            "Fatiga: 1\n",
            "Dolor muscular: 0\n",
            "Dolor de garganta: 1\n",
            "Congestión nasal: 0\n",
            "Dificultad para respirar: 1\n",
            "Pérdida de apetito: 0\n",
            "Diagnóstico sugerido: Faringitis\n"
          ]
        }
      ],
      "source": [
        "# Importar bibliotecas necesarias\n",
        "from sklearn.neighbors import KNeighborsClassifier\n",
        "from sklearn.model_selection import train_test_split\n",
        "from sklearn.metrics import accuracy_score\n",
        "\n",
        "# Conjunto de datos extendido: 30 enfermedades con 9 síntomas cada una\n",
        "sintomas = [\n",
        "    [1, 1, 1, 1, 1, 1, 1, 0, 1],  # 1. Gripe\n",
        "    [1, 0, 1, 0, 0, 1, 1, 0, 0],  # 2. Resfriado\n",
        "    [0, 0, 1, 0, 0, 1, 1, 0, 0],  # 3. Alergia\n",
        "    [1, 1, 0, 1, 1, 0, 0, 1, 1],  # 4. Neumonía\n",
        "    [0, 1, 1, 1, 0, 1, 1, 0, 0],  # 5. Sinusitis\n",
        "    [1, 1, 1, 1, 1, 0, 0, 1, 0],  # 6. Bronquitis\n",
        "    [1, 1, 1, 1, 1, 1, 0, 1, 1],  # 7. COVID-19\n",
        "    [0, 1, 0, 1, 0, 1, 0, 0, 0],  # 8. Faringitis\n",
        "    [1, 0, 0, 1, 0, 0, 0, 1, 0],  # 9. Asma\n",
        "    [1, 1, 0, 1, 1, 0, 0, 1, 1],  # 10. Tuberculosis\n",
        "    [1, 0, 1, 1, 1, 1, 1, 1, 0],  # 11. Bronquiectasia\n",
        "    [1, 0, 1, 0, 0, 1, 0, 0, 0],  # 12. Laringitis\n",
        "    [0, 1, 1, 1, 0, 1, 0, 0, 0],  # 13. Otitis\n",
        "    [1, 0, 0, 1, 0, 0, 1, 1, 0],  # 14. EPOC\n",
        "    [1, 1, 1, 1, 1, 0, 0, 1, 1],  # 15. Neumonía bacteriana\n",
        "    [1, 1, 0, 1, 1, 1, 0, 1, 1],  # 16. Neumonía viral\n",
        "    [0, 1, 0, 1, 0, 1, 1, 0, 0],  # 17. Faringoamigdalitis\n",
        "    [0, 1, 0, 1, 0, 1, 0, 0, 0],  # 18. Infección de garganta\n",
        "    [0, 0, 0, 0, 0, 0, 1, 0, 0],  # 19. Rinitis\n",
        "    [0, 1, 1, 0, 0, 1, 1, 0, 0],  # 20. Sinusitis crónica\n",
        "    [0, 1, 1, 1, 1, 0, 0, 0, 1],  # 21. Gastroenteritis\n",
        "    [1, 1, 1, 1, 1, 1, 0, 0, 1],  # 22. Mononucleosis infecciosa\n",
        "    [0, 1, 1, 1, 1, 0, 0, 0, 1],  # 23. Dengue\n",
        "    [0, 1, 1, 1, 1, 0, 0, 0, 1],  # 24. Malaria\n",
        "    [0, 1, 1, 1, 1, 0, 0, 0, 1],  # 25. Fiebre tifoidea\n",
        "    [0, 1, 1, 1, 1, 0, 0, 0, 1],  # 26. Chikungunya\n",
        "    [1, 1, 1, 1, 0, 0, 0, 1, 1],  # 27. Meningitis\n",
        "    [1, 1, 1, 1, 1, 1, 1, 1, 1],  # 28. Sepsis\n",
        "    [1, 1, 1, 1, 1, 0, 0, 1, 1],  # 29. Bronconeumonía\n",
        "    [1, 0, 0, 0, 0, 0, 1, 0, 0]   # 30. Infección respiratoria viral\n",
        "]\n",
        "\n",
        "diagnosticos = [\n",
        "    \"Gripe\", \"Resfriado\", \"Alergia\", \"Neumonía\", \"Sinusitis\",\n",
        "    \"Bronquitis\", \"COVID-19\", \"Faringitis\", \"Asma\", \"Tuberculosis\",\n",
        "    \"Bronquiectasia\", \"Laringitis\", \"Otitis\", \"EPOC\", \"Neumonía bacteriana\",\n",
        "    \"Neumonía viral\", \"Faringoamigdalitis\", \"Infección de garganta\", \"Rinitis\",\n",
        "    \"Sinusitis crónica\", \"Gastroenteritis\", \"Mononucleosis infecciosa\", \"Dengue\",\n",
        "    \"Malaria\", \"Fiebre tifoidea\", \"Chikungunya\", \"Meningitis\", \"Sepsis\",\n",
        "    \"Bronconeumonía\", \"Infección respiratoria viral\"\n",
        "]\n",
        "\n",
        "# Dividir el conjunto de datos en conjuntos de entrenamiento y prueba\n",
        "X_train, X_test, y_train, y_test = train_test_split(sintomas, diagnosticos, test_size=0.2, random_state=42)\n",
        "\n",
        "# Crear y entrenar el modelo k-NN\n",
        "modelo = KNeighborsClassifier(n_neighbors=3)\n",
        "modelo.fit(X_train, y_train)\n",
        "\n",
        "# Probar el modelo en el conjunto de prueba y calcular la precisión\n",
        "y_pred = modelo.predict(X_test)\n",
        "precision = accuracy_score(y_test, y_pred)\n",
        "print(f\"Precisión del modelo: {precision * 100:.2f}%\")\n",
        "\n",
        "# Función interactiva para diagnosticar según los síntomas ingresados por el usuario\n",
        "def diagnosticar_sintomas():\n",
        "    print(\"Ingrese los síntomas presentes (1 = Sí, 0 = No):\")\n",
        "    tos = int(input(\"Tos: \"))\n",
        "    fiebre = int(input(\"Fiebre: \"))\n",
        "    dolor_cabeza = int(input(\"Dolor de cabeza: \"))\n",
        "    fatiga = int(input(\"Fatiga: \"))\n",
        "    dolor_muscular = int(input(\"Dolor muscular: \"))\n",
        "    dolor_garganta = int(input(\"Dolor de garganta: \"))\n",
        "    congestion_nasal = int(input(\"Congestión nasal: \"))\n",
        "    dificultad_respiratoria = int(input(\"Dificultad para respirar: \"))\n",
        "    perdida_apetito = int(input(\"Pérdida de apetito: \"))\n",
        "\n",
        "    # Crear una lista con los síntomas ingresados\n",
        "    sintomas_usuario = [[tos, fiebre, dolor_cabeza, fatiga, dolor_muscular, dolor_garganta, congestion_nasal, dificultad_respiratoria, perdida_apetito]]\n",
        "\n",
        "    # Predecir el diagnóstico basado en los síntomas del usuario\n",
        "    diagnostico = modelo.predict(sintomas_usuario)\n",
        "    print(f\"Diagnóstico sugerido: {diagnostico[0]}\")\n",
        "\n",
        "# Ejecutar la función interactiva para poner a prueba el sistema\n",
        "diagnosticar_sintomas()\n",
        "1"
      ]
    }
  ]
}